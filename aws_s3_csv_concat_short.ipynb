{
 "cells": [
  {
   "cell_type": "code",
   "execution_count": 12,
   "id": "2eb23d53",
   "metadata": {},
   "outputs": [],
   "source": [
    "import pandas as pd\n",
    "df = pd.read_csv(\"s3://hwanawsbucket1/test_forecast/test_forecast_export_2022-04-20T07-07-45Z_part0.csv\")"
   ]
  },
  {
   "cell_type": "code",
   "execution_count": 8,
   "id": "d691cc02",
   "metadata": {},
   "outputs": [
    {
     "data": {
      "text/html": [
       "<div>\n",
       "<style scoped>\n",
       "    .dataframe tbody tr th:only-of-type {\n",
       "        vertical-align: middle;\n",
       "    }\n",
       "\n",
       "    .dataframe tbody tr th {\n",
       "        vertical-align: top;\n",
       "    }\n",
       "\n",
       "    .dataframe thead th {\n",
       "        text-align: right;\n",
       "    }\n",
       "</style>\n",
       "<table border=\"1\" class=\"dataframe\">\n",
       "  <thead>\n",
       "    <tr style=\"text-align: right;\">\n",
       "      <th></th>\n",
       "      <th>item_id</th>\n",
       "      <th>date</th>\n",
       "      <th>p10</th>\n",
       "      <th>p50</th>\n",
       "      <th>p90</th>\n",
       "    </tr>\n",
       "  </thead>\n",
       "  <tbody>\n",
       "  </tbody>\n",
       "</table>\n",
       "</div>"
      ],
      "text/plain": [
       "Empty DataFrame\n",
       "Columns: [item_id, date, p10, p50, p90]\n",
       "Index: []"
      ]
     },
     "execution_count": 8,
     "metadata": {},
     "output_type": "execute_result"
    }
   ],
   "source": [
    "df"
   ]
  },
  {
   "cell_type": "code",
   "execution_count": 16,
   "id": "5f34fb93",
   "metadata": {},
   "outputs": [],
   "source": [
    "import pandas as pd\n",
    "df_res = pd.read_csv(\"s3://hwanawsbucket1/test_forecast/test_forecast_export_2022-04-20T07-07-45Z_part1.csv\")\n",
    "\n",
    "for i in range(2,35):\n",
    "    df = pd.read_csv(\"s3://hwanawsbucket1/test_forecast/test_forecast_export_2022-04-20T07-07-45Z_part{name}.csv\".format(name=i))\n",
    "    df_res= pd.concat([df_res,df],axis=0)"
   ]
  },
  {
   "cell_type": "code",
   "execution_count": 25,
   "id": "4550ca28",
   "metadata": {},
   "outputs": [
    {
     "data": {
      "text/html": [
       "<div>\n",
       "<style scoped>\n",
       "    .dataframe tbody tr th:only-of-type {\n",
       "        vertical-align: middle;\n",
       "    }\n",
       "\n",
       "    .dataframe tbody tr th {\n",
       "        vertical-align: top;\n",
       "    }\n",
       "\n",
       "    .dataframe thead th {\n",
       "        text-align: right;\n",
       "    }\n",
       "</style>\n",
       "<table border=\"1\" class=\"dataframe\">\n",
       "  <thead>\n",
       "    <tr style=\"text-align: right;\">\n",
       "      <th></th>\n",
       "      <th>item_id</th>\n",
       "      <th>date</th>\n",
       "      <th>p10</th>\n",
       "      <th>p50</th>\n",
       "      <th>p90</th>\n",
       "    </tr>\n",
       "  </thead>\n",
       "  <tbody>\n",
       "    <tr>\n",
       "      <th>0</th>\n",
       "      <td>전세</td>\n",
       "      <td>2022-04-01T00:00:00Z</td>\n",
       "      <td>103.820668</td>\n",
       "      <td>103.894997</td>\n",
       "      <td>103.969184</td>\n",
       "    </tr>\n",
       "    <tr>\n",
       "      <th>1</th>\n",
       "      <td>전세</td>\n",
       "      <td>2022-05-01T00:00:00Z</td>\n",
       "      <td>103.944629</td>\n",
       "      <td>104.057901</td>\n",
       "      <td>104.187305</td>\n",
       "    </tr>\n",
       "    <tr>\n",
       "      <th>2</th>\n",
       "      <td>전세</td>\n",
       "      <td>2022-06-01T00:00:00Z</td>\n",
       "      <td>104.082966</td>\n",
       "      <td>104.203853</td>\n",
       "      <td>104.314841</td>\n",
       "    </tr>\n",
       "    <tr>\n",
       "      <th>3</th>\n",
       "      <td>전세</td>\n",
       "      <td>2022-07-01T00:00:00Z</td>\n",
       "      <td>104.213982</td>\n",
       "      <td>104.343697</td>\n",
       "      <td>104.469216</td>\n",
       "    </tr>\n",
       "    <tr>\n",
       "      <th>4</th>\n",
       "      <td>전세</td>\n",
       "      <td>2022-08-01T00:00:00Z</td>\n",
       "      <td>104.299898</td>\n",
       "      <td>104.499884</td>\n",
       "      <td>104.679278</td>\n",
       "    </tr>\n",
       "    <tr>\n",
       "      <th>...</th>\n",
       "      <td>...</td>\n",
       "      <td>...</td>\n",
       "      <td>...</td>\n",
       "      <td>...</td>\n",
       "      <td>...</td>\n",
       "    </tr>\n",
       "    <tr>\n",
       "      <th>7</th>\n",
       "      <td>참기름</td>\n",
       "      <td>2022-11-01T00:00:00Z</td>\n",
       "      <td>107.250137</td>\n",
       "      <td>110.330643</td>\n",
       "      <td>113.536789</td>\n",
       "    </tr>\n",
       "    <tr>\n",
       "      <th>8</th>\n",
       "      <td>참기름</td>\n",
       "      <td>2022-12-01T00:00:00Z</td>\n",
       "      <td>107.882866</td>\n",
       "      <td>112.027679</td>\n",
       "      <td>115.863892</td>\n",
       "    </tr>\n",
       "    <tr>\n",
       "      <th>9</th>\n",
       "      <td>참기름</td>\n",
       "      <td>2023-01-01T00:00:00Z</td>\n",
       "      <td>107.667534</td>\n",
       "      <td>111.256149</td>\n",
       "      <td>115.050995</td>\n",
       "    </tr>\n",
       "    <tr>\n",
       "      <th>10</th>\n",
       "      <td>참기름</td>\n",
       "      <td>2023-02-01T00:00:00Z</td>\n",
       "      <td>107.649544</td>\n",
       "      <td>111.547516</td>\n",
       "      <td>115.414970</td>\n",
       "    </tr>\n",
       "    <tr>\n",
       "      <th>11</th>\n",
       "      <td>참기름</td>\n",
       "      <td>2023-03-01T00:00:00Z</td>\n",
       "      <td>104.785759</td>\n",
       "      <td>108.750076</td>\n",
       "      <td>112.968750</td>\n",
       "    </tr>\n",
       "  </tbody>\n",
       "</table>\n",
       "<p>468 rows × 5 columns</p>\n",
       "</div>"
      ],
      "text/plain": [
       "   item_id                  date         p10         p50         p90\n",
       "0       전세  2022-04-01T00:00:00Z  103.820668  103.894997  103.969184\n",
       "1       전세  2022-05-01T00:00:00Z  103.944629  104.057901  104.187305\n",
       "2       전세  2022-06-01T00:00:00Z  104.082966  104.203853  104.314841\n",
       "3       전세  2022-07-01T00:00:00Z  104.213982  104.343697  104.469216\n",
       "4       전세  2022-08-01T00:00:00Z  104.299898  104.499884  104.679278\n",
       "..     ...                   ...         ...         ...         ...\n",
       "7      참기름  2022-11-01T00:00:00Z  107.250137  110.330643  113.536789\n",
       "8      참기름  2022-12-01T00:00:00Z  107.882866  112.027679  115.863892\n",
       "9      참기름  2023-01-01T00:00:00Z  107.667534  111.256149  115.050995\n",
       "10     참기름  2023-02-01T00:00:00Z  107.649544  111.547516  115.414970\n",
       "11     참기름  2023-03-01T00:00:00Z  104.785759  108.750076  112.968750\n",
       "\n",
       "[468 rows x 5 columns]"
      ]
     },
     "execution_count": 25,
     "metadata": {},
     "output_type": "execute_result"
    }
   ],
   "source": [
    "df_res\n",
    "\n"
   ]
  },
  {
   "cell_type": "code",
   "execution_count": 27,
   "id": "33f97c60",
   "metadata": {},
   "outputs": [],
   "source": [
    "df_res.to_csv(\"s3://hwanawsbucket1/test_forecast/sobi_predict.csv\")\n"
   ]
  },
  {
   "cell_type": "code",
   "execution_count": null,
   "id": "9196c87c",
   "metadata": {},
   "outputs": [],
   "source": []
  }
 ],
 "metadata": {
  "kernelspec": {
   "display_name": "conda_python3",
   "language": "python",
   "name": "conda_python3"
  },
  "language_info": {
   "codemirror_mode": {
    "name": "ipython",
    "version": 3
   },
   "file_extension": ".py",
   "mimetype": "text/x-python",
   "name": "python",
   "nbconvert_exporter": "python",
   "pygments_lexer": "ipython3",
   "version": "3.6.13"
  }
 },
 "nbformat": 4,
 "nbformat_minor": 5
}
